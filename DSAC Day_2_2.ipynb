{
 "cells": [
  {
   "cell_type": "code",
   "execution_count": 1,
   "metadata": {
    "collapsed": true
   },
   "outputs": [
    {
     "data": {
      "text/plain": [
       "(array([ 0.99352238,  1.28482717,  0.30755498,  0.75635128, -1.42039224,\n",
       "         0.55032346, -0.15513309, -1.35337534, -0.64801977, -0.26902619,\n",
       "        -1.51477846,  1.20538091, -1.41535036, -1.41754161,  2.22063803,\n",
       "        -0.08288859,  0.31297775,  2.18537549, -0.34424467, -0.02356705,\n",
       "         0.36384016, -0.50548187, -0.02041973, -1.18354703, -1.16871015,\n",
       "         0.33491856, -0.6258354 ,  0.93895864, -0.2060094 , -0.90737174,\n",
       "         1.35691301, -1.04978903,  2.21937209, -0.00433121,  0.74580767,\n",
       "        -0.68531953, -0.22626403, -1.21009723, -0.30048374,  0.11838206,\n",
       "        -0.70685218,  1.81911903,  1.31237193, -1.00364321,  0.27718777,\n",
       "         0.16649211,  2.17333073, -0.32029296, -0.75327725,  1.01407746,\n",
       "         0.36838761, -0.73151023,  1.11820761,  0.29974379, -0.26407666,\n",
       "        -1.04102067, -0.32598989, -0.89397844, -0.45025785, -1.03171219,\n",
       "         0.49482054, -0.71171397, -0.66340469, -1.07566213,  0.51738206,\n",
       "         0.56363456, -0.78651785,  1.68614031, -0.00801025,  1.44294974,\n",
       "        -1.64778652, -0.40570663,  0.70658374,  0.75309271,  0.8917444 ,\n",
       "         1.33985265,  1.9448011 , -2.03878763, -0.30719573, -0.44610733,\n",
       "         1.25443157, -0.4999584 ,  0.05408932,  0.18493976, -0.84484564,\n",
       "        -0.98592262,  0.6747096 , -1.21761929, -1.13496088,  1.20129263,\n",
       "        -1.33632576,  0.72907063,  0.20366817,  0.3097755 , -1.10310364,\n",
       "        -0.64458982, -0.4991167 ,  0.599451  , -0.0305783 ,  0.35082703]),\n",
       " array([ 3.06928985e+01,  4.29956670e+01,  6.39923586e+00,  3.75544686e+01,\n",
       "        -2.03770993e+01,  1.79213435e+01, -1.14409045e+01, -1.16107105e+01,\n",
       "        -6.87668440e-01,  2.99445580e+00, -2.34467961e+01,  4.14173804e+01,\n",
       "        -1.09165245e+01, -2.00559276e+01,  4.46905528e+01,  1.35950580e+01,\n",
       "         1.45497293e+01,  4.52689361e+01,  1.72199191e+01,  1.74604333e+00,\n",
       "         2.40612515e+01, -6.67336888e-01,  1.60135372e+01, -9.50532319e+00,\n",
       "         2.47157977e+00,  1.19094384e+01, -7.76603664e+00,  1.15060124e+01,\n",
       "         2.28253515e+00, -2.42925241e+01,  3.95981333e+01, -1.42013348e+01,\n",
       "         5.85061806e+01,  1.08623920e+01,  2.75301669e+01, -1.35169451e+01,\n",
       "        -6.04374340e-02, -5.06295935e+00,  3.06366003e+00,  2.84003779e+01,\n",
       "        -7.15016980e+00,  5.04762572e+01,  3.19210967e+01, -1.86776744e+00,\n",
       "         3.54890512e+01,  2.23816627e+01,  7.06770404e+01, -1.41084339e+01,\n",
       "        -1.74013270e+01,  4.38658327e+01,  2.22716157e+01,  1.00824423e+01,\n",
       "         2.55047709e+01,  2.20990731e+01, -5.42507067e+00, -1.05753237e+01,\n",
       "         1.16490359e+01,  8.58074610e+00,  1.60643557e+01, -1.12890597e+01,\n",
       "         5.76165836e+00, -2.67732925e+00, -5.22488597e+00, -7.88706162e+00,\n",
       "         3.12599504e+01,  1.55660090e+01, -1.15029223e+01,  3.74520260e+01,\n",
       "         1.19341846e+01,  3.14120334e+01, -3.37806011e+01, -3.06043293e+00,\n",
       "         1.97438898e+01,  2.89221340e+01,  3.63708772e+01,  4.73587967e+01,\n",
       "         5.01517612e+01, -2.84495860e+01, -9.31767905e+00, -1.28615878e+01,\n",
       "         4.35174515e+01, -6.14001923e+00,  6.48309477e+00,  2.57297278e+01,\n",
       "        -3.72500767e+00,  4.84607768e+00,  1.58819147e+01, -5.94093621e+00,\n",
       "        -2.09582539e+01,  2.96248855e+01, -2.99168442e+01,  2.68261326e+01,\n",
       "         2.55003519e+01,  4.72930239e+00,  2.74525041e+00, -8.67632275e-02,\n",
       "        -1.27016328e+01,  2.15934141e+01, -1.95667703e+00,  3.19621824e+01]))"
      ]
     },
     "execution_count": 1,
     "metadata": {},
     "output_type": "execute_result"
    }
   ],
   "source": [
    "# Linear Regression : y = wx = b\n",
    "\n",
    "import numpy as np\n",
    "import pandas as pd\n",
    "import matplotlib.pyplot as plt\n",
    "%matplotlib inline\n",
    "\n",
    "n = 100\n",
    "x = np.random.randn(n)\n",
    "y = x*20 + 10           # w=20, b=10\n",
    "y = y + np.random.randn(n) * 10     # add noise\n",
    "x,y\n"
   ]
  },
  {
   "cell_type": "code",
   "execution_count": 2,
   "metadata": {},
   "outputs": [
    {
     "data": {
      "text/plain": [
       "<matplotlib.collections.PathCollection at 0x281a81efdd8>"
      ]
     },
     "execution_count": 2,
     "metadata": {},
     "output_type": "execute_result"
    },
    {
     "data": {
      "image/png": "[encoded data removed]",
      "text/plain": [
       "<Figure size 360x360 with 1 Axes>"
      ]
     },
     "metadata": {
      "needs_background": "light"
     },
     "output_type": "display_data"
    }
   ],
   "source": [
    "plt.figure(figsize=(5,5))\n",
    "plt.scatter(x,y)"
   ]
  },
  {
   "cell_type": "code",
   "execution_count": 14,
   "metadata": {},
   "outputs": [
    {
     "name": "stdout",
     "output_type": "stream",
     "text": [
      "------------------\n",
      "epoch= 299 error= 7.617608786100725 w= 20.26191091672128 b= 10.481757049156103\n"
     ]
    }
   ],
   "source": [
    "w = np.random.randn()         # random initial choise\n",
    "b = np.random.randn()\n",
    "\n",
    "lr = 0.1                      # learning( or training) rate\n",
    "n_epoch = 300\n",
    "\n",
    "for epoch in range(n_epoch):\n",
    "    y_pred = w * x + b\n",
    "    error = np.sqrt((y_pred - y)**2).mean()\n",
    "    if error < 0.1:\n",
    "        break\n",
    "    w = w - lr*((y_pred-y)*x).mean()\n",
    "    b = b - lr*((y_pred-y)).mean()\n",
    "    \n",
    "print(\"------------------\")\n",
    "print('epoch=', epoch, \"error=\", error, \"w=\", w, \"b=\",b)\n",
    "    \n",
    "    "
   ]
  },
  {
   "cell_type": "code",
   "execution_count": 26,
   "metadata": {},
   "outputs": [
    {
     "name": "stdout",
     "output_type": "stream",
     "text": [
      "epoch= 0 error= 18.017104062100888 w= 3.2803591246853543 b= 1.7280599208708727\n",
      "epoch= 10 error= 9.651648902269386 w= 14.08024777701487 b= 7.409327293292838\n",
      "epoch= 20 error= 7.879963564169256 w= 18.011783491200397 b= 9.403112423465842\n",
      "epoch= 30 error= 7.689676582217262 w= 19.442911012924633 b= 10.102979913352028\n",
      "epoch= 40 error= 7.643380884039007 w= 19.963828307851987 b= 10.34871127641513\n",
      "epoch= 50 error= 7.6265305334799915 w= 20.15342671016469 b= 10.435012240805461\n",
      "epoch= 60 error= 7.620572906815717 w= 20.222431159015002 b= 10.465329086357091\n",
      "epoch= 70 error= 7.618682931657587 w= 20.247544069565684 b= 10.475982007491877\n",
      "epoch= 80 error= 7.617998083580357 w= 20.256683003138598 b= 10.479726326159808\n",
      "epoch= 90 error= 7.617749893388646 w= 20.26000862933391 b= 10.481042760947211\n",
      "epoch= 100 error= 7.617659938373968 w= 20.26121875834105 b= 10.481505729429133\n",
      "epoch= 110 error= 7.617627331080764 w= 20.261659081049498 b= 10.48166859605771\n",
      "epoch= 120 error= 7.617615510168552 w= 20.261819292103603 b= 10.481725907912573\n",
      "epoch= 130 error= 7.617611224363337 w= 20.261877582448673 b= 10.481746081891586\n",
      "epoch= 140 error= 7.617609670340382 w= 20.261898789694314 b= 10.481753185458214\n",
      "epoch= 150 error= 7.61760910680081 w= 20.261906505052696 b= 10.481755687543883\n",
      "epoch= 160 error= 7.617608902423885 w= 20.26190931186139 b= 10.481756569144162\n",
      "epoch= 170 error= 7.617608828296568 w= 20.261910332930263 b= 10.48175687987765\n",
      "epoch= 180 error= 7.617608801408337 w= 20.261910704365746 b= 10.48175698943818\n",
      "epoch= 190 error= 7.617608791654345 w= 20.26191083947916 b= 10.481757028081356\n",
      "epoch= 200 error= 7.6176087881156995 w= 20.261910888626588 b= 10.481757041716099\n",
      "epoch= 210 error= 7.617608786831815 w= 20.261910906503434 b= 10.481757046528694\n",
      "epoch= 220 error= 7.617608786365963 w= 20.261910913005774 b= 10.481757048228003\n",
      "epoch= 230 error= 7.6176087861969215 w= 20.26191091537081 b= 10.481757048828248\n",
      "epoch= 240 error= 7.617608786135576 w= 20.261910916230995 b= 10.481757049040352\n",
      "epoch= 250 error= 7.617608786113312 w= 20.261910916543844 b= 10.481757049115332\n",
      "epoch= 260 error= 7.617608786105234 w= 20.261910916657627 b= 10.48175704914185\n",
      "epoch= 270 error= 7.6176087861023 w= 20.261910916699012 b= 10.48175704915123\n",
      "epoch= 280 error= 7.617608786101235 w= 20.26191091671406 b= 10.481757049154549\n",
      "epoch= 290 error= 7.61760878610085 w= 20.261910916719536 b= 10.481757049155725\n",
      "------------------\n",
      "epoch= 299 error= 7.617608786100716 w= 20.261910916721405 b= 10.481757049156116\n"
     ]
    },
    {
     "data": {
      "text/plain": [
       "[<matplotlib.lines.Line2D at 0x281a965e898>]"
      ]
     },
     "execution_count": 26,
     "metadata": {},
     "output_type": "execute_result"
    },
    {
     "data": {
      "image/png": "[encoded data removed]",
      "text/plain": [
       "<Figure size 360x360 with 1 Axes>"
      ]
     },
     "metadata": {
      "needs_background": "light"
     },
     "output_type": "display_data"
    }
   ],
   "source": [
    "plt.figure(figsize=(5,5))\n",
    "plt.scatter(x,y)\n",
    "\n",
    "w = np.random.randn()         # random initial choise\n",
    "b = np.random.randn()\n",
    "\n",
    "lr = 0.1                      # learning( or training) rate\n",
    "n_epoch = 300\n",
    "\n",
    "for epoch in range(n_epoch):\n",
    "    y_pred = w * x + b\n",
    "    error = np.sqrt((y_pred - y)**2).mean()\n",
    "    if error < 0.1:\n",
    "        break\n",
    "    w = w - lr*((y_pred-y)*x).mean()\n",
    "    b = b - lr*((y_pred-y)).mean()\n",
    "    if epoch%10 ==0:\n",
    "        print('epoch=', epoch, \"error=\", error, \"w=\", w, \"b=\",b)\n",
    "    \n",
    "print(\"------------------\")\n",
    "print('epoch=', epoch, \"error=\", error, \"w=\", w, \"b=\",b)\n",
    "\n",
    "xx = np.linspace(-5,5,100)\n",
    "yy = w * xx + b\n",
    "plt.plot(xx,yy,c = 'k')"
   ]
  },
  {
   "cell_type": "code",
   "execution_count": 88,
   "metadata": {},
   "outputs": [
    {
     "name": "stdout",
     "output_type": "stream",
     "text": [
      "epoch= 0 error= 5993.745718840586 w= 20.261910916721405 w1= 45.56559778079751 w2= 62.089081732106 b= 67.54094884744121\n",
      "epoch= 1000 error= 1.0918753712520641 w= 20.261910916721405 w1= 30.100524999618592 w2= 39.90908261062282 b= 49.83305060346071\n",
      "epoch= 2000 error= 1.0918753712520641 w= 20.261910916721405 w1= 30.100524999618592 w2= 39.90908261062282 b= 49.83305060346071\n",
      "------------------\n",
      "epoch= 2999 error= 1.0918753712520637 w= 20.261910916721405 w1= 30.10052499961859 w2= 39.90908261062281 b= 49.83305060346071\n"
     ]
    }
   ],
   "source": [
    "# ex2: Linear Regression : y = w1*x1 + w2*x2 + b\n",
    "\n",
    "import numpy as np\n",
    "import pandas as pd\n",
    "import matplotlib.pyplot as plt\n",
    "%matplotlib inline\n",
    "\n",
    "n = 100\n",
    "x1 = np.random.randn(n)\n",
    "x2 = np.random.randn(n)\n",
    "y = x1*30 + x2*40 + 50              # w1=30, w2=40, b=50\n",
    "y = y + np.random.randn(n) * 1     # add noise\n",
    "\n",
    "\n",
    "w1 = np.random.randn()         # random initial choise\n",
    "w2 = np.random.randn()\n",
    "b = np.random.randn()\n",
    "\n",
    "lr = 1.2                      # learning( or training) rate\n",
    "n_epoch = 3000\n",
    "\n",
    "for epoch in range(n_epoch):\n",
    "    y_pred = w1*x1 + w2*x2 + b\n",
    "    error = ((y_pred - y)**2).mean()\n",
    "    if error < 1:\n",
    "        break\n",
    "    w1 = w1 - lr*((y_pred-y)*x1).mean()\n",
    "    w2 = w2 - lr*((y_pred-y)*x2).mean()\n",
    "    b = b - lr*((y_pred-y)).mean()\n",
    "    if epoch%1000 ==0:\n",
    "        print('epoch=', epoch, \"error=\", error, \"w=\", w,\"w1=\",w1, \"w2=\", w2, \"b=\",b)\n",
    "    \n",
    "print(\"------------------\")\n",
    "print('epoch=', epoch, \"error=\", error, \"w=\", w,\"w1=\",w1, \"w2=\", w2, \"b=\",b)"
   ]
  },
  {
   "cell_type": "code",
   "execution_count": null,
   "metadata": {},
   "outputs": [],
   "source": [
    "# ex3: Linear Regression : y = w1*x1 + w2*x2 + b (function call)\n",
    "\n",
    "import numpy as np\n",
    "import pandas as pd\n",
    "import matplotlib.pyplot as plt\n",
    "%matplotlib inline\n",
    "\n",
    "n = 100\n",
    "x1 = np.random.randn(n)\n",
    "x2 = np.random.randn(n)\n",
    "y = x1*30 + x2*40 + 50              # w1=30, w2=40, b=50\n",
    "y = y + np.random.randn(n) * 1     # add noise"
   ]
  },
  {
   "cell_type": "code",
   "execution_count": 95,
   "metadata": {},
   "outputs": [
    {
     "data": {
      "text/plain": [
       "(array([30.100525  , 39.90908261]), 49.83305060346073)"
      ]
     },
     "execution_count": 95,
     "metadata": {},
     "output_type": "execute_result"
    }
   ],
   "source": [
    "X = pd.DataFrame(x1)\n",
    "X[1] = x2\n",
    "\n",
    "from sklearn.linear_model import LinearRegression            # take package part of learning machine\n",
    "\n",
    "model = LinearRegression()\n",
    "model.fit(X,y)\n",
    "model.coef_ , model.intercept_"
   ]
  },
  {
   "cell_type": "code",
   "execution_count": null,
   "metadata": {},
   "outputs": [],
   "source": [
    "w1 = np.random.randn()         # random initial choise\n",
    "w2 = np.random.randn()\n",
    "b = np.random.randn()\n",
    "\n",
    "lr = 1.2                      # learning( or training) rate\n",
    "n_epoch = 3000\n",
    "\n",
    "for epoch in range(n_epoch):\n",
    "    y_pred = w1*x1 + w2*x2 + b\n",
    "    error = ((y_pred - y)**2).mean()\n",
    "    if error < 1:\n",
    "        break\n",
    "    w1 = w1 - lr*((y_pred-y)*x1).mean()\n",
    "    w2 = w2 - lr*((y_pred-y)*x2).mean()\n",
    "    b = b - lr*((y_pred-y)).mean()\n",
    "    if epoch%1000 ==0:\n",
    "        print('epoch=', epoch, \"error=\", error, \"w=\", w,\"w1=\",w1, \"w2=\", w2, \"b=\",b)\n",
    "    \n",
    "print(\"------------------\")\n",
    "print('epoch=', epoch, \"error=\", error, \"w=\", w,\"w1=\",w1, \"w2=\", w2, \"b=\",b)"
   ]
  },
  {
   "cell_type": "code",
   "execution_count": 101,
   "metadata": {},
   "outputs": [
    {
     "data": {
      "text/plain": [
       "array([199.66082343])"
      ]
     },
     "execution_count": 101,
     "metadata": {},
     "output_type": "execute_result"
    }
   ],
   "source": [
    "new_X = [1,3]\n",
    "model.predict([new_X])"
   ]
  },
  {
   "cell_type": "code",
   "execution_count": 105,
   "metadata": {},
   "outputs": [
    {
     "name": "stdout",
     "output_type": "stream",
     "text": [
      "[ 75.3518005  100.84564099  83.67404205  88.13554406  92.83537281\n",
      "  80.12149182 101.45320641  86.87476802  88.92908065  77.64709152\n",
      "  67.13783927  74.8683673   98.33302309  82.57715578  75.17223151\n",
      "  84.07975871  98.52766068 100.49905703  84.62126127 102.60534204\n",
      "  82.49328357 100.30707216  81.36027348  83.22625267  88.64698157\n",
      "  89.64162454  57.64716899  89.85229458  96.32608343  84.74055905\n",
      " 109.1680278   65.31134114  93.9409054   74.18430672 110.66416731\n",
      "  87.74906864  91.74612981  79.78808889 101.71797333  92.80559782\n",
      " 103.62675398  65.18289639  87.28005372  76.99028993  67.28253811\n",
      "  79.99382052  72.02029774 100.49475666  90.86708269  90.23110142\n",
      "  91.22136762  96.32939903  73.92104474  81.75649361  67.62937983\n",
      "  76.78208255  51.95546145  98.85639173  65.18439312  64.15756115\n",
      "  84.49570027  95.98847735  69.52967006  94.00330853 114.59848835\n",
      "  96.93293084  79.99510881 118.74080266  98.98779987  75.60418495\n",
      "  91.0444023   75.39516509  75.59711633  74.82047732 107.62448847\n",
      "  77.59208224  74.97204543 106.80619423  76.59170826  71.06412585\n",
      "  73.90209245  80.75625089  83.77445882  96.57770326  87.58482843\n",
      "  98.27534588  95.10423788 100.23417757  63.17756048  70.12590735\n",
      "  71.587912    71.15419102  88.90271781  93.39979586  72.12534779\n",
      "  85.38496321  72.04077661 104.62078413  83.94232451  72.42037894]\n"
     ]
    }
   ],
   "source": [
    "z = np.random.rand(100,2)\n",
    "print(model.predict(z))"
   ]
  }
 ],
 "metadata": {
  "kernelspec": {
   "display_name": "Python 3",
   "language": "python",
   "name": "python3"
  },
  "language_info": {
   "codemirror_mode": {
    "name": "ipython",
    "version": 3
   },
   "file_extension": ".py",
   "mimetype": "text/x-python",
   "name": "python",
   "nbconvert_exporter": "python",
   "pygments_lexer": "ipython3",
   "version": "3.7.0"
  }
 },
 "nbformat": 4,
 "nbformat_minor": 2
}
